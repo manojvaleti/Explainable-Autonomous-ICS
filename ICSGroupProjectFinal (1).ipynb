{
  "nbformat": 4,
  "nbformat_minor": 0,
  "metadata": {
    "colab": {
      "provenance": []
    },
    "kernelspec": {
      "name": "python3",
      "display_name": "Python 3"
    },
    "language_info": {
      "name": "python"
    }
  },
  "cells": [
    {
      "cell_type": "code",
      "execution_count": null,
      "metadata": {
        "colab": {
          "base_uri": "https://localhost:8080/"
        },
        "id": "Fl-qZ_S-QbsM",
        "outputId": "9cb91ba5-0c18-4527-9c54-a3c155f950e5"
      },
      "outputs": [
        {
          "output_type": "stream",
          "name": "stdout",
          "text": [
            "Mounted at /content/drive\n"
          ]
        }
      ],
      "source": [
        "#loading data into dataframes\n",
        "from google.colab import drive\n",
        "drive.mount('/content/drive')\n",
        "import pandas as pd\n",
        "path=\"/content/drive/MyDrive/Colab Notebooks/data/SCADA.csv\"\n",
        "df1 = pd.read_csv(path)\n",
        "path1=\"/content/drive/MyDrive/Colab Notebooks/data/PSCADA.csv\"\n",
        "df=pd.read_csv(path1)"
      ]
    },
    {
      "cell_type": "code",
      "source": [
        "#adding the is_Attack,is_user_operating columns to dataframe\n",
        "df1['is_user_operating']=df['is_user_operating']\n",
        "df1['is_attack'] = df['is_attack']"
      ],
      "metadata": {
        "id": "rHDkvWHIUSrJ"
      },
      "execution_count": null,
      "outputs": []
    },
    {
      "cell_type": "code",
      "source": [
        "#removing unnecessary columns\n",
        "df1 = df1.drop(columns=['src','timestamp'])"
      ],
      "metadata": {
        "id": "Hx58mGxZUcIk"
      },
      "execution_count": null,
      "outputs": []
    },
    {
      "cell_type": "code",
      "source": [
        "#train and test split\n",
        "from sklearn.model_selection import train_test_split\n",
        "train, test = train_test_split(df1, test_size=0.2, random_state=42)"
      ],
      "metadata": {
        "id": "tF2_nZVnVrRv"
      },
      "execution_count": null,
      "outputs": []
    },
    {
      "cell_type": "code",
      "source": [
        "#splitting of training data\n",
        "local_train,local_test = train_test_split(train,test_size=0.2,random_state=75)"
      ],
      "metadata": {
        "id": "BsxIpDHiWPwW"
      },
      "execution_count": null,
      "outputs": []
    },
    {
      "cell_type": "code",
      "source": [
        "d1_train=local_train\n",
        "d2_train=local_train\n",
        "d3_train=local_train\n",
        "d1_test=local_test\n",
        "d2_test=local_test\n",
        "d3_test=local_test"
      ],
      "metadata": {
        "id": "lcKofggAYsAC"
      },
      "execution_count": null,
      "outputs": []
    },
    {
      "cell_type": "code",
      "source": [
        "#dropping columns from the dataframes based on the models\n",
        "d1_train=d1_train.drop(columns=['cpu_time.iowait','cpu_time.irq','memory_percent','conn_count.udp','tcp_state.listen'])\n",
        "d2_train=d2_train.drop(columns=['net_byte.tx','net_byte.rx','net_pkt.tx','net_pkt.rx','conn_count.tcp','conn_count.udp','tcp_state.listen','tcp_state.established','is_user_operating'])\n",
        "d3_train=d3_train.drop(columns=['cpu_percent','cpu_time.user','cpu_time.sys','cpu_time.idle','cpu_time.nice','cpu_time.iowait','cpu_time.irq','cpu_time.softirq','memory_percent','is_user_operating'])\n",
        "d1_test=d1_test.drop(columns=['cpu_time.iowait','cpu_time.irq','memory_percent','conn_count.udp','tcp_state.listen'])\n",
        "d2_test=d2_test.drop(columns=['net_byte.tx','net_byte.rx','net_pkt.tx','net_pkt.rx','conn_count.tcp','conn_count.udp','tcp_state.listen','tcp_state.established','is_user_operating'])\n",
        "d3_test=d3_test.drop(columns=['cpu_percent','cpu_time.user','cpu_time.sys','cpu_time.idle','cpu_time.nice','cpu_time.iowait','cpu_time.irq','cpu_time.softirq','memory_percent','is_user_operating'])"
      ],
      "metadata": {
        "id": "AsmwbR5zZNwD"
      },
      "execution_count": null,
      "outputs": []
    },
    {
      "cell_type": "code",
      "source": [
        "final_y = test['is_attack']\n",
        "final_d1=test.drop(columns=['cpu_time.iowait','cpu_time.irq','memory_percent','conn_count.udp','tcp_state.listen','is_attack'])\n",
        "final_d2=test.drop(columns=['net_byte.tx','net_byte.rx','net_pkt.tx','net_pkt.rx','conn_count.tcp','conn_count.udp','tcp_state.listen','tcp_state.established','is_user_operating','is_attack'])\n",
        "final_d3=test.drop(columns=['cpu_percent','cpu_time.user','cpu_time.sys','cpu_time.idle','cpu_time.nice','cpu_time.iowait','cpu_time.irq','cpu_time.softirq','memory_percent','is_user_operating','is_attack'])\n"
      ],
      "metadata": {
        "id": "-dfxuvGlp8LH"
      },
      "execution_count": null,
      "outputs": []
    },
    {
      "cell_type": "code",
      "source": [
        "d1_test_y=d1_test['is_attack']\n",
        "d1_test_x=d1_test.drop(columns=['is_attack'])\n",
        "\n",
        "d1_train_y=d1_train['is_attack']\n",
        "d1_train_x=d1_train.drop(columns=['is_attack'])\n",
        "\n",
        "d2_test_y=d2_test['is_attack']\n",
        "d2_test_x=d2_test.drop(columns=['is_attack'])\n",
        "\n",
        "d2_train_y=d2_train['is_attack']\n",
        "d2_train_x=d2_train.drop(columns=['is_attack'])\n",
        "\n",
        "d3_test_y=d3_test['is_attack']\n",
        "d3_test_x=d3_test.drop(columns=['is_attack'])\n",
        "\n",
        "d3_train_y=d3_train['is_attack']\n",
        "d3_train_x=d3_train.drop(columns=['is_attack'])"
      ],
      "metadata": {
        "id": "oPV3LCtqbQy4"
      },
      "execution_count": null,
      "outputs": []
    },
    {
      "cell_type": "code",
      "source": [
        "#Decisiontree classifier - 95.367%\n",
        "from sklearn import tree\n",
        " \n",
        "#choose from different tunable hyper parameters\n",
        "clf1 = tree.DecisionTreeClassifier(criterion='entropy')\n",
        "clf2 = tree.DecisionTreeClassifier(criterion='entropy')\n",
        "clf3 = tree.DecisionTreeClassifier(criterion='entropy')\n",
        " \n",
        "#Printing all the parameters of Decision Trees\n",
        "print(clf1,clf2,clf3)\n",
        " \n",
        "#Creating the model on Training Data\n",
        "DTree1=clf1.fit(d1_train_x,d1_train_y)\n",
        "pred1=DTree1.predict(d1_test_x)\n",
        "\n",
        "print(pred1)\n",
        "\n",
        "DTree2=clf2.fit(d2_train_x,d2_train_y)\n",
        "pred2=DTree2.predict(d2_test_x)\n",
        "\n",
        "print(pred2)\n",
        "\n",
        "DTree3=clf3.fit(d3_train_x,d3_train_y)\n",
        "pred3=DTree3.predict(d3_test_x)\n",
        "\n",
        "print(pred3)"
      ],
      "metadata": {
        "colab": {
          "base_uri": "https://localhost:8080/"
        },
        "id": "eJnnvBVveMx6",
        "outputId": "9b45cbd8-a87e-4c21-dd82-5e995af30bc6"
      },
      "execution_count": null,
      "outputs": [
        {
          "output_type": "stream",
          "name": "stdout",
          "text": [
            "DecisionTreeClassifier(criterion='entropy') DecisionTreeClassifier(criterion='entropy') DecisionTreeClassifier(criterion='entropy')\n",
            "[1 0 0 ... 0 0 0]\n",
            "[1 0 1 ... 0 0 0]\n",
            "[1 0 0 ... 0 0 0]\n"
          ]
        }
      ]
    },
    {
      "cell_type": "code",
      "source": [
        "#Random forest - 95.31%\n",
        "from sklearn.ensemble import RandomForestClassifier\n",
        "# Instantiate model with 10000 decision trees\n",
        "rf1 = RandomForestClassifier(n_estimators = 2000, random_state = 42)\n",
        "rf2 = RandomForestClassifier(n_estimators = 2000, random_state = 42)\n",
        "rf3 = RandomForestClassifier(n_estimators = 2000, random_state = 42)\n",
        "# Train the model on training data\n",
        "rf1.fit(d1_train_x, d1_train_y);\n",
        "pred1 = rf1.predict(d1_test_x)\n",
        "\n",
        "rf2.fit(d2_train_x, d2_train_y);\n",
        "pred2 = rf2.predict(d2_test_x)\n",
        "\n",
        "rf3.fit(d3_train_x, d3_train_y);\n",
        "pred3 = rf3.predict(d3_test_x)"
      ],
      "metadata": {
        "id": "zzNFbzgx2D0e"
      },
      "execution_count": null,
      "outputs": []
    },
    {
      "cell_type": "code",
      "source": [
        "#Gaussian NB - 64.6%\n",
        "from sklearn.datasets import load_iris\n",
        "from sklearn.model_selection import train_test_split\n",
        "from sklearn.naive_bayes import GaussianNB\n",
        "gnb1 = GaussianNB()\n",
        "gnb2 = GaussianNB()\n",
        "gnb3 = GaussianNB()\n",
        "\n",
        "gnb1.fit(d1_train_x, d1_train_y)\n",
        "pred1 = gnb1.predict(d1_test_x)\n",
        "\n",
        "gnb2.fit(d2_train_x, d2_train_y)\n",
        "pred2=gnb2.predict(d2_test_x)\n",
        "\n",
        "gnb3.fit(d3_train_x, d3_train_y)\n",
        "pred3=gnb3.predict(d3_test_x)\n"
      ],
      "metadata": {
        "id": "tVCHvIFgARdG"
      },
      "execution_count": null,
      "outputs": []
    },
    {
      "cell_type": "code",
      "source": [
        "#SVC - 64.69%\n",
        "from sklearn.svm import SVC\n",
        "svc1 = SVC()\n",
        "svc2 = SVC()\n",
        "svc3 = SVC()\n",
        "\n",
        "svc1.fit(d1_train_x, d1_train_y)\n",
        "pred1 = svc1.predict(d1_test_x)\n",
        "\n",
        "svc2.fit(d2_train_x,d2_train_y)\n",
        "pred2 = svc2.predict(d2_test_x)\n",
        "\n",
        "svc3.fit(d3_train_x,d3_train_y)\n",
        "pred3 = svc3.predict(d3_test_x)"
      ],
      "metadata": {
        "id": "h0utdGjwFy7e"
      },
      "execution_count": null,
      "outputs": []
    },
    {
      "cell_type": "code",
      "source": [
        "#KNN - 95.06%\n",
        "from sklearn.neighbors import KNeighborsClassifier\n",
        "knn1 = KNeighborsClassifier(n_neighbors=2)\n",
        "knn2 = KNeighborsClassifier(n_neighbors=2)\n",
        "knn3 = KNeighborsClassifier(n_neighbors=2)\n",
        "\n",
        "knn1.fit(d1_train_x, d1_train_y)\n",
        "pred1 = knn1.predict(d1_test_x)\n",
        "\n",
        "knn2.fit(d2_train_x, d2_train_y)\n",
        "pred2 = knn2.predict(d2_test_x)\n",
        "\n",
        "knn3.fit(d3_train_x, d3_train_y)\n",
        "pred3 = knn3.predict(d3_test_x)"
      ],
      "metadata": {
        "id": "MATocPbEPfXW"
      },
      "execution_count": null,
      "outputs": []
    },
    {
      "cell_type": "code",
      "source": [
        "from sklearn import metrics\n",
        "\n",
        "print(pred1)\n",
        "print(metrics.classification_report(d1_test_y, pred1))\n",
        "cm1 = metrics.confusion_matrix(d1_test_y, pred1)\n",
        "print(\"confusion_matrix: \",cm1)\n",
        "print(\"accuracy \",(cm1[0][0]+cm1[1][1])/(cm1[0][0]+cm1[0][1]+cm1[1][1]+cm1[1][0]))\n",
        "\n",
        "\n",
        "print(metrics.classification_report(d2_test_y, pred2))\n",
        "cm2 = metrics.confusion_matrix(d2_test_y, pred2)\n",
        "print(\"confusion_matrix: \",cm2)\n",
        "print(\"accuracy \",(cm2[0][0]+cm2[1][1])/(cm2[0][0]+cm2[0][1]+cm2[1][1]+cm2[1][0]))\n",
        "\n",
        "\n",
        "print(metrics.classification_report(d3_test_y, pred3))\n",
        "cm3 = metrics.confusion_matrix(d3_test_y, pred3)\n",
        "print(\"confusion_matrix: \",cm3)\n",
        "print(\"accuracy \",(cm3[0][0]+cm3[1][1])/(cm3[0][0]+cm3[0][1]+cm3[1][1]+cm3[1][0]))"
      ],
      "metadata": {
        "colab": {
          "base_uri": "https://localhost:8080/"
        },
        "id": "JPI330_Bh0rg",
        "outputId": "f0b1c3ad-bb9a-41ee-abc2-f2ef06d9969c"
      },
      "execution_count": null,
      "outputs": [
        {
          "output_type": "stream",
          "name": "stdout",
          "text": [
            "[1 0 0 ... 0 0 0]\n",
            "              precision    recall  f1-score   support\n",
            "\n",
            "           0       0.91      0.99      0.95      9332\n",
            "           1       0.99      0.89      0.94      7904\n",
            "\n",
            "    accuracy                           0.94     17236\n",
            "   macro avg       0.95      0.94      0.94     17236\n",
            "weighted avg       0.95      0.94      0.94     17236\n",
            "\n",
            "confusion_matrix:  [[9252   80]\n",
            " [ 879 7025]]\n",
            "accuracy  0.9443606405198421\n",
            "              precision    recall  f1-score   support\n",
            "\n",
            "           0       1.00      1.00      1.00      9332\n",
            "           1       1.00      1.00      1.00      7904\n",
            "\n",
            "    accuracy                           1.00     17236\n",
            "   macro avg       1.00      1.00      1.00     17236\n",
            "weighted avg       1.00      1.00      1.00     17236\n",
            "\n",
            "confusion_matrix:  [[9324    8]\n",
            " [   9 7895]]\n",
            "accuracy  0.9990136922719889\n",
            "              precision    recall  f1-score   support\n",
            "\n",
            "           0       0.91      1.00      0.95      9332\n",
            "           1       1.00      0.89      0.94      7904\n",
            "\n",
            "    accuracy                           0.95     17236\n",
            "   macro avg       0.96      0.94      0.95     17236\n",
            "weighted avg       0.95      0.95      0.95     17236\n",
            "\n",
            "confusion_matrix:  [[9312   20]\n",
            " [ 882 7022]]\n",
            "accuracy  0.9476676723137619\n"
          ]
        }
      ]
    },
    {
      "cell_type": "code",
      "source": [
        "#DecisionTree\n",
        "R1=DTree1.predict(final_d1)\n",
        "R2=DTree2.predict(final_d2)\n",
        "R3=DTree3.predict(final_d3)\n",
        "print(len(R1),len(R2),len(R3))"
      ],
      "metadata": {
        "colab": {
          "base_uri": "https://localhost:8080/"
        },
        "id": "N75Vi704lm0B",
        "outputId": "82ead772-2d5b-427d-ddaf-7ba1bc0b5ea1"
      },
      "execution_count": null,
      "outputs": [
        {
          "output_type": "stream",
          "name": "stdout",
          "text": [
            "21545 21545 21545\n"
          ]
        }
      ]
    },
    {
      "cell_type": "code",
      "source": [
        "#Randomforest\n",
        "R1= rf1.predict(final_d1)\n",
        "R2= rf2.predict(final_d2)\n",
        "R3= rf3.predict(final_d3)\n"
      ],
      "metadata": {
        "id": "iCJOS2XscUUV"
      },
      "execution_count": null,
      "outputs": []
    },
    {
      "cell_type": "code",
      "source": [
        "#GNB\n",
        "R1 = gnb1.predict(final_d1)\n",
        "R2=gnb2.predict(final_d2)\n",
        "R3 = gnb3.predict(final_d3)"
      ],
      "metadata": {
        "id": "i0Cea-yYBUAV"
      },
      "execution_count": null,
      "outputs": []
    },
    {
      "cell_type": "code",
      "source": [
        "#SVC\n",
        "R1 = svc1.predict(final_d1)\n",
        "R2=svc2.predict(final_d2)\n",
        "R3 = svc3.predict(final_d3)"
      ],
      "metadata": {
        "id": "oVfGnf6DKnJH"
      },
      "execution_count": null,
      "outputs": []
    },
    {
      "cell_type": "code",
      "source": [
        "#KNN\n",
        "R1 = knn1.predict(final_d1)\n",
        "R2=knn2.predict(final_d2)\n",
        "R3 = knn3.predict(final_d3)"
      ],
      "metadata": {
        "id": "eczZx08JQbih"
      },
      "execution_count": null,
      "outputs": []
    },
    {
      "cell_type": "code",
      "source": [
        "#KNN,RFT,DT\n",
        "from sklearn.neighbors import KNeighborsClassifier\n",
        "from sklearn.ensemble import RandomForestClassifier\n",
        "from sklearn import tree\n",
        "\n",
        "for i in range(10):\n",
        "  knn = KNeighborsClassifier(n_neighbors=2)\n",
        "  knn.fit(d1_train_x, d1_train_y)\n",
        "  rf = RandomForestClassifier(n_estimators = 2000, random_state = 42+i)\n",
        "  rf.fit(d2_train_x, d2_train_y);\n",
        "  clf = tree.DecisionTreeClassifier(criterion='entropy')\n",
        "  clf1=clf.fit(d3_train_x,d3_train_y)\n",
        "R1 = knn.predict(final_d1)\n",
        "R2=rf.predict(final_d2)\n",
        "R3 = clf1.predict(final_d3)  "
      ],
      "metadata": {
        "id": "2e92DOqcjK_p"
      },
      "execution_count": null,
      "outputs": []
    },
    {
      "cell_type": "code",
      "source": [
        "#Final\n",
        "from sklearn import metrics\n",
        "print(metrics.classification_report(l, final_y))\n",
        "cm4 = metrics.confusion_matrix(l, final_y)\n",
        "print(\"confusion_matrix: \",cm4)\n",
        "print(\"accuracy \",(cm4[0][0]+cm4[1][1])/(cm4[0][0]+cm4[0][1]+cm4[1][1]+cm4[1][0]))"
      ],
      "metadata": {
        "colab": {
          "base_uri": "https://localhost:8080/"
        },
        "id": "ATt86Wsmo-Sw",
        "outputId": "a92411ed-756c-4ead-f351-7ee0da5eb719"
      },
      "execution_count": null,
      "outputs": [
        {
          "output_type": "stream",
          "name": "stdout",
          "text": [
            "              precision    recall  f1-score   support\n",
            "\n",
            "           0       1.00      0.92      0.96     12820\n",
            "           1       0.90      1.00      0.94      8725\n",
            "\n",
            "    accuracy                           0.95     21545\n",
            "   macro avg       0.95      0.96      0.95     21545\n",
            "weighted avg       0.96      0.95      0.95     21545\n",
            "\n",
            "confusion_matrix:  [[11799  1021]\n",
            " [   10  8715]]\n",
            "accuracy  0.9521466697609654\n"
          ]
        }
      ]
    },
    {
      "cell_type": "markdown",
      "source": [
        "Code to train with different models\n"
      ],
      "metadata": {
        "id": "u-DhtMWZcV1T"
      }
    },
    {
      "cell_type": "code",
      "source": [
        "import numpy\n",
        "\n",
        "#KNN,DT,RF\n",
        "\n",
        "for i in range(10):\n",
        "  knn = KNeighborsClassifier(n_neighbors=2)\n",
        "  knn.fit(d1_train_x, d1_train_y)\n",
        "\n",
        "  clf = tree.DecisionTreeClassifier(criterion='entropy')\n",
        "  clf1=clf.fit(d2_train_x,d2_train_y)\n",
        "\n",
        "  rf = RandomForestClassifier(n_estimators = 2000, random_state = 42+i)\n",
        "  rf.fit(d3_train_x, d3_train_y);\n",
        "  \n",
        "R1 = knn.predict(final_d1)\n",
        "R2=rf.predict(final_d3)\n",
        "R3 = clf1.predict(final_d2)\n",
        "#Voter\n",
        "\n",
        "count1,count0=0,0\n",
        "l=[]\n",
        "for i in range(len(R1)):\n",
        "  if(R1[i]==0):\n",
        "    count0+=1\n",
        "  if(R2[i]==0):\n",
        "    count0+=1\n",
        "  if(R3[i]==0):\n",
        "    count0+=1\n",
        "  if(R1[i]==1):\n",
        "    count1+=1\n",
        "  if(R2[i]==1):\n",
        "    count1+=1\n",
        "  if(R3[i]==1):\n",
        "    count1+=1\n",
        "  if(count0>count1):\n",
        "    l.append(0)\n",
        "  if(count0<count1):\n",
        "    l.append(1)\n",
        "  count0,count1=0,0\n",
        "l=numpy.array(l)\n",
        "print(l)                \n",
        "#Final\n",
        "from sklearn import metrics\n",
        "print(metrics.classification_report(l, final_y))\n",
        "cm4 = metrics.confusion_matrix(l, final_y)\n",
        "print(\"confusion_matrix: \",cm4)\n",
        "print(\"accuracy \",(cm4[0][0]+cm4[1][1])/(cm4[0][0]+cm4[0][1]+cm4[1][1]+cm4[1][0]))"
      ],
      "metadata": {
        "colab": {
          "base_uri": "https://localhost:8080/"
        },
        "id": "9WhK-tPykAY7",
        "outputId": "af14e019-11ea-4f4d-ae30-70cb4362ac23"
      },
      "execution_count": null,
      "outputs": [
        {
          "output_type": "stream",
          "name": "stdout",
          "text": [
            "[1 0 1 ... 0 0 0]\n",
            "              precision    recall  f1-score   support\n",
            "\n",
            "           0       1.00      0.92      0.96     12818\n",
            "           1       0.90      1.00      0.94      8727\n",
            "\n",
            "    accuracy                           0.95     21545\n",
            "   macro avg       0.95      0.96      0.95     21545\n",
            "weighted avg       0.96      0.95      0.95     21545\n",
            "\n",
            "confusion_matrix:  [[11797  1021]\n",
            " [   12  8715]]\n",
            "accuracy  0.9520538407983291\n"
          ]
        }
      ]
    },
    {
      "cell_type": "code",
      "source": [
        "#RF,KNN,DT\n",
        "for i in range(10):\n",
        "  knn = KNeighborsClassifier(n_neighbors=2)\n",
        "  knn.fit(d2_train_x, d2_train_y)\n",
        "  rf = RandomForestClassifier(n_estimators = 2000, random_state = 42+i)\n",
        "  rf.fit(d1_train_x, d1_train_y);\n",
        "  clf = tree.DecisionTreeClassifier(criterion='entropy')\n",
        "  clf1=clf.fit(d3_train_x,d3_train_y)\n",
        "R1 = knn.predict(final_d2)\n",
        "R2=rf.predict(final_d1)\n",
        "R3 = clf1.predict(final_d3) \n",
        "#Voter\n",
        "import numpy\n",
        "count1,count0=0,0\n",
        "l=[]\n",
        "for i in range(len(R1)):\n",
        "  if(R1[i]==0):\n",
        "    count0+=1\n",
        "  if(R2[i]==0):\n",
        "    count0+=1\n",
        "  if(R3[i]==0):\n",
        "    count0+=1\n",
        "  if(R1[i]==1):\n",
        "    count1+=1\n",
        "  if(R2[i]==1):\n",
        "    count1+=1\n",
        "  if(R3[i]==1):\n",
        "    count1+=1\n",
        "  if(count0>count1):\n",
        "    l.append(0)\n",
        "  if(count0<count1):\n",
        "    l.append(1)\n",
        "  count0,count1=0,0\n",
        "l=numpy.array(l)\n",
        "print(l)                \n",
        "#Final\n",
        "from sklearn import metrics\n",
        "print(metrics.classification_report(l, final_y))\n",
        "cm4 = metrics.confusion_matrix(l, final_y)\n",
        "print(\"confusion_matrix: \",cm4)\n",
        "print(\"accuracy \",(cm4[0][0]+cm4[1][1])/(cm4[0][0]+cm4[0][1]+cm4[1][1]+cm4[1][0]))"
      ],
      "metadata": {
        "colab": {
          "base_uri": "https://localhost:8080/"
        },
        "id": "ef4we08_kANk",
        "outputId": "42e630aa-7aee-4109-bdb5-2bed4b9bb27b"
      },
      "execution_count": null,
      "outputs": [
        {
          "output_type": "stream",
          "name": "stdout",
          "text": [
            "[1 0 1 ... 0 0 0]\n",
            "              precision    recall  f1-score   support\n",
            "\n",
            "           0       1.00      0.92      0.96     12814\n",
            "           1       0.90      1.00      0.95      8731\n",
            "\n",
            "    accuracy                           0.95     21545\n",
            "   macro avg       0.95      0.96      0.95     21545\n",
            "weighted avg       0.96      0.95      0.95     21545\n",
            "\n",
            "confusion_matrix:  [[11806  1008]\n",
            " [    3  8728]]\n",
            "accuracy  0.9530749593873289\n"
          ]
        }
      ]
    },
    {
      "cell_type": "code",
      "source": [
        "#RF,DT,KNN\n",
        "for i in range(10):\n",
        "  knn = KNeighborsClassifier(n_neighbors=2)\n",
        "  knn.fit(d3_train_x, d3_train_y)\n",
        "  rf = RandomForestClassifier(n_estimators = 2000, random_state = 42+i)\n",
        "  rf.fit(d1_train_x, d1_train_y);\n",
        "  clf = tree.DecisionTreeClassifier(criterion='entropy')\n",
        "  clf1=clf.fit(d2_train_x,d2_train_y)\n",
        "R1 = knn.predict(final_d3)\n",
        "R2=rf.predict(final_d1)\n",
        "R3 = clf1.predict(final_d2)\n",
        "#Voter\n",
        "import numpy\n",
        "count1,count0=0,0\n",
        "l=[]\n",
        "for i in range(len(R1)):\n",
        "  if(R1[i]==0):\n",
        "    count0+=1\n",
        "  if(R2[i]==0):\n",
        "    count0+=1\n",
        "  if(R3[i]==0):\n",
        "    count0+=1\n",
        "  if(R1[i]==1):\n",
        "    count1+=1\n",
        "  if(R2[i]==1):\n",
        "    count1+=1\n",
        "  if(R3[i]==1):\n",
        "    count1+=1\n",
        "  if(count0>count1):\n",
        "    l.append(0)\n",
        "  if(count0<count1):\n",
        "    l.append(1)\n",
        "  count0,count1=0,0\n",
        "l=numpy.array(l)\n",
        "print(l)                \n",
        "#Final\n",
        "from sklearn import metrics\n",
        "print(metrics.classification_report(l, final_y))\n",
        "cm4 = metrics.confusion_matrix(l, final_y)\n",
        "print(\"confusion_matrix: \",cm4)\n",
        "print(\"accuracy \",(cm4[0][0]+cm4[1][1])/(cm4[0][0]+cm4[0][1]+cm4[1][1]+cm4[1][0]))\n"
      ],
      "metadata": {
        "colab": {
          "base_uri": "https://localhost:8080/"
        },
        "id": "xIB9WXtRj_Uc",
        "outputId": "52839d28-ce6a-4483-ee87-f687b49c037e"
      },
      "execution_count": null,
      "outputs": [
        {
          "output_type": "stream",
          "name": "stdout",
          "text": [
            "[1 0 1 ... 0 0 0]\n",
            "              precision    recall  f1-score   support\n",
            "\n",
            "           0       1.00      0.92      0.96     12818\n",
            "           1       0.90      1.00      0.95      8727\n",
            "\n",
            "    accuracy                           0.95     21545\n",
            "   macro avg       0.95      0.96      0.95     21545\n",
            "weighted avg       0.96      0.95      0.95     21545\n",
            "\n",
            "confusion_matrix:  [[11809  1009]\n",
            " [    0  8727]]\n",
            "accuracy  0.9531677883499652\n"
          ]
        }
      ]
    },
    {
      "cell_type": "code",
      "source": [
        "#DT,KNN,RF\n",
        "for i in range(10):\n",
        "  knn = KNeighborsClassifier(n_neighbors=2)\n",
        "  knn.fit(d2_train_x, d2_train_y)\n",
        "  rf = RandomForestClassifier(n_estimators = 2000, random_state = 42+i)\n",
        "  rf.fit(d3_train_x, d3_train_y);\n",
        "  clf = tree.DecisionTreeClassifier(criterion='entropy')\n",
        "  clf1=clf.fit(d1_train_x,d1_train_y)\n",
        "R1 = knn.predict(final_d2)\n",
        "R2=rf.predict(final_d3)\n",
        "R3 = clf1.predict(final_d1)\n",
        "#Voter\n",
        "import numpy\n",
        "count1,count0=0,0\n",
        "l=[]\n",
        "for i in range(len(R1)):\n",
        "  if(R1[i]==0):\n",
        "    count0+=1\n",
        "  if(R2[i]==0):\n",
        "    count0+=1\n",
        "  if(R3[i]==0):\n",
        "    count0+=1\n",
        "  if(R1[i]==1):\n",
        "    count1+=1\n",
        "  if(R2[i]==1):\n",
        "    count1+=1\n",
        "  if(R3[i]==1):\n",
        "    count1+=1\n",
        "  if(count0>count1):\n",
        "    l.append(0)\n",
        "  if(count0<count1):\n",
        "    l.append(1)\n",
        "  count0,count1=0,0\n",
        "l=numpy.array(l)\n",
        "print(l)                \n",
        "#Final\n",
        "from sklearn import metrics\n",
        "print(metrics.classification_report(l, final_y))\n",
        "cm4 = metrics.confusion_matrix(l, final_y)\n",
        "print(\"confusion_matrix: \",cm4)\n",
        "print(\"accuracy \",(cm4[0][0]+cm4[1][1])/(cm4[0][0]+cm4[0][1]+cm4[1][1]+cm4[1][0]))"
      ],
      "metadata": {
        "colab": {
          "base_uri": "https://localhost:8080/"
        },
        "id": "0C4Hr0wskAFt",
        "outputId": "48506969-6215-4e35-d13f-60bd065d5a2b"
      },
      "execution_count": null,
      "outputs": [
        {
          "output_type": "stream",
          "name": "stdout",
          "text": [
            "[1 0 1 ... 0 0 0]\n",
            "              precision    recall  f1-score   support\n",
            "\n",
            "           0       1.00      0.92      0.96     12801\n",
            "           1       0.90      1.00      0.95      8744\n",
            "\n",
            "    accuracy                           0.95     21545\n",
            "   macro avg       0.95      0.96      0.95     21545\n",
            "weighted avg       0.96      0.95      0.95     21545\n",
            "\n",
            "confusion_matrix:  [[11805   996]\n",
            " [    4  8740]]\n",
            "accuracy  0.9535855186818287\n"
          ]
        }
      ]
    },
    {
      "cell_type": "code",
      "source": [
        "#DT,RF,KNN\n",
        "for i in range(10):\n",
        "  knn = KNeighborsClassifier(n_neighbors=2)\n",
        "  knn.fit(d3_train_x, d3_train_y)\n",
        "  rf = RandomForestClassifier(n_estimators = 2000, random_state = 42+i)\n",
        "  rf.fit(d2_train_x, d2_train_y);\n",
        "  clf = tree.DecisionTreeClassifier(criterion='entropy')\n",
        "  clf1=clf.fit(d1_train_x,d1_train_y)\n",
        "R1 = knn.predict(final_d3)\n",
        "R2=rf.predict(final_d2)\n",
        "R3 = clf1.predict(final_d1)\n",
        "#Voter\n",
        "import numpy\n",
        "count1,count0=0,0\n",
        "l=[]\n",
        "for i in range(len(R1)):\n",
        "  if(R1[i]==0):\n",
        "    count0+=1\n",
        "  if(R2[i]==0):\n",
        "    count0+=1\n",
        "  if(R3[i]==0):\n",
        "    count0+=1\n",
        "  if(R1[i]==1):\n",
        "    count1+=1\n",
        "  if(R2[i]==1):\n",
        "    count1+=1\n",
        "  if(R3[i]==1):\n",
        "    count1+=1\n",
        "  if(count0>count1):\n",
        "    l.append(0)\n",
        "  if(count0<count1):\n",
        "    l.append(1)\n",
        "  count0,count1=0,0\n",
        "l=numpy.array(l)\n",
        "print(l)                \n",
        "#Final\n",
        "from sklearn import metrics\n",
        "print(metrics.classification_report(l, final_y))\n",
        "cm4 = metrics.confusion_matrix(l, final_y)\n",
        "print(\"confusion_matrix: \",cm4)\n",
        "print(\"accuracy \",(cm4[0][0]+cm4[1][1])/(cm4[0][0]+cm4[0][1]+cm4[1][1]+cm4[1][0]))"
      ],
      "metadata": {
        "colab": {
          "base_uri": "https://localhost:8080/"
        },
        "id": "e1IDS-NAj_pn",
        "outputId": "ffe72ce8-e075-4e86-ddd9-358f052c7392"
      },
      "execution_count": null,
      "outputs": [
        {
          "output_type": "stream",
          "name": "stdout",
          "text": [
            "[1 0 1 ... 0 0 0]\n",
            "              precision    recall  f1-score   support\n",
            "\n",
            "           0       1.00      0.92      0.96     12800\n",
            "           1       0.90      1.00      0.95      8745\n",
            "\n",
            "    accuracy                           0.95     21545\n",
            "   macro avg       0.95      0.96      0.95     21545\n",
            "weighted avg       0.96      0.95      0.95     21545\n",
            "\n",
            "confusion_matrix:  [[11807   993]\n",
            " [    2  8743]]\n",
            "accuracy  0.9538175910884196\n"
          ]
        }
      ]
    },
    {
      "cell_type": "code",
      "source": [
        "#Voter\n",
        "import numpy\n",
        "count1,count0=0,0\n",
        "l=[]\n",
        "for i in range(len(R1)):\n",
        "  if(R1[i]==0):\n",
        "    count0+=1\n",
        "  if(R2[i]==0):\n",
        "    count0+=1\n",
        "  if(R3[i]==0):\n",
        "    count0+=1\n",
        "  if(R1[i]==1):\n",
        "    count1+=1\n",
        "  if(R2[i]==1):\n",
        "    count1+=1\n",
        "  if(R3[i]==1):\n",
        "    count1+=1\n",
        "  if(count0>count1):\n",
        "    l.append(0)\n",
        "  if(count0<count1):\n",
        "    l.append(1)\n",
        "  count0,count1=0,0\n",
        "l=numpy.array(l)\n",
        "print(l)                \n"
      ],
      "metadata": {
        "colab": {
          "base_uri": "https://localhost:8080/"
        },
        "id": "V2fhwCVYngaf",
        "outputId": "11bddabe-6308-4df5-c533-f990860274e8"
      },
      "execution_count": null,
      "outputs": [
        {
          "output_type": "stream",
          "name": "stdout",
          "text": [
            "[1 0 1 ... 0 0 0]\n"
          ]
        }
      ]
    },
    {
      "cell_type": "code",
      "source": [
        "from matplotlib import pyplot as plt\n",
        "from sklearn import datasets\n",
        "from sklearn.tree import DecisionTreeClassifier \n",
        "from sklearn import tree\n",
        "from IPython.display import Image\n",
        "import pydotplus \n",
        "\n",
        "#Decisiontree classifier - 95.367%\n",
        "from sklearn import tree\n",
        " \n",
        "#choose from different tunable hyper parameters\n",
        "clf1 = tree.DecisionTreeClassifier(criterion='entropy',max_depth=5)\n",
        "clf2 = tree.DecisionTreeClassifier(criterion='entropy',max_depth=5)\n",
        "clf3 = tree.DecisionTreeClassifier(criterion='entropy',max_depth=5)\n",
        " \n",
        "#Printing all the parameters of Decision Trees\n",
        "print(clf1,clf2,clf3)\n",
        " \n",
        "#Creating the model on Training Data\n",
        "DTree1=clf1.fit(d1_train_x,d1_train_y)\n",
        "pred1=DTree1.predict(d1_test_x)\n",
        "\n",
        "print(pred1)\n",
        "\n",
        "DTree2=clf2.fit(d2_train_x,d2_train_y)\n",
        "pred2=DTree2.predict(d2_test_x)\n",
        "\n",
        "print(pred2)\n",
        "\n",
        "DTree3=clf3.fit(d3_train_x,d3_train_y)\n",
        "pred3=DTree3.predict(d3_test_x)\n",
        "\n",
        "print(pred3)\n",
        "\n",
        "\n",
        "#DecisionTree\n",
        "R1=DTree1.predict(final_d1)\n",
        "R2=DTree2.predict(final_d2)\n",
        "R3=DTree3.predict(final_d3)\n",
        "print(len(R1),len(R2),len(R3))\n",
        "\n",
        "#Voter\n",
        "import numpy\n",
        "count1,count0=0,0\n",
        "l=[]\n",
        "for i in range(len(R1)):\n",
        "  if(R1[i]==0):\n",
        "    count0+=1\n",
        "  if(R2[i]==0):\n",
        "    count0+=1\n",
        "  if(R3[i]==0):\n",
        "    count0+=1\n",
        "  if(R1[i]==1):\n",
        "    count1+=1\n",
        "  if(R2[i]==1):\n",
        "    count1+=1\n",
        "  if(R3[i]==1):\n",
        "    count1+=1\n",
        "  if(count0>count1):\n",
        "    l.append(0)\n",
        "  if(count0<count1):\n",
        "    l.append(1)\n",
        "  count0,count1=0,0\n",
        "l=numpy.array(l)\n",
        "print(l)                \n",
        "\n",
        "from sklearn import metrics\n",
        "print(metrics.classification_report(l, final_y))\n",
        "cm4 = metrics.confusion_matrix(l, final_y)\n",
        "print(\"confusion_matrix: \",cm4)\n",
        "print(\"accuracy \",(cm4[0][0]+cm4[1][1])/(cm4[0][0]+cm4[0][1]+cm4[1][1]+cm4[1][0]))\n",
        "\n",
        "FNames1 = d1_train_x.columns.values\n",
        "FNames2 = d2_train_x.columns.values\n",
        "FNames3 = d3_train_x.columns.values\n",
        "\n",
        "CNames= ['0','1']\n",
        "\n",
        "dot_data1 = tree.export_graphviz(DTree1,out_file=None,feature_names=FNames1,class_names=CNames)\n",
        "\n",
        "graph1 = pydotplus.graph_from_dot_data(dot_data1)\n",
        "\n",
        "Image(graph1.create_png())\n",
        "graph1.write_png(\"UserBehaviourDT.png\")\n",
        "\n",
        "dot_data2 = tree.export_graphviz(DTree2,out_file=None,feature_names=FNames2,class_names=CNames)\n",
        "\n",
        "graph2 = pydotplus.graph_from_dot_data(dot_data2)\n",
        "\n",
        "Image(graph2.create_png())\n",
        "graph2.write_png(\"CPU_DT.png\")\n",
        "dot_data3 = tree.export_graphviz(DTree3,out_file=None,feature_names=FNames3,class_names=CNames)\n",
        "\n",
        "graph3 = pydotplus.graph_from_dot_data(dot_data3)\n",
        "\n",
        "Image(graph3.create_png())\n",
        "graph3.write_png(\"NetworkDT.png\")\n",
        "\n"
      ],
      "metadata": {
        "colab": {
          "base_uri": "https://localhost:8080/"
        },
        "id": "sBceMGfKFCix",
        "outputId": "402ebb5a-24a6-4bbb-ec60-c28d53372dce"
      },
      "execution_count": null,
      "outputs": [
        {
          "output_type": "stream",
          "name": "stdout",
          "text": [
            "DecisionTreeClassifier(criterion='entropy', max_depth=5) DecisionTreeClassifier(criterion='entropy', max_depth=5) DecisionTreeClassifier(criterion='entropy', max_depth=5)\n",
            "[1 0 0 ... 0 0 0]\n",
            "[1 0 1 ... 0 0 0]\n",
            "[1 0 0 ... 0 0 0]\n",
            "21545 21545 21545\n",
            "[1 0 1 ... 0 0 0]\n",
            "              precision    recall  f1-score   support\n",
            "\n",
            "           0       1.00      0.92      0.96     12827\n",
            "           1       0.90      1.00      0.94      8718\n",
            "\n",
            "    accuracy                           0.95     21545\n",
            "   macro avg       0.95      0.96      0.95     21545\n",
            "weighted avg       0.96      0.95      0.95     21545\n",
            "\n",
            "confusion_matrix:  [[11807  1020]\n",
            " [    2  8716]]\n",
            "accuracy  0.952564400092829\n"
          ]
        },
        {
          "output_type": "execute_result",
          "data": {
            "text/plain": [
              "True"
            ]
          },
          "metadata": {},
          "execution_count": 40
        }
      ]
    }
  ]
}